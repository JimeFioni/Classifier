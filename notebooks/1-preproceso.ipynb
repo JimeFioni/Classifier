{
 "cells": [
  {
   "cell_type": "markdown",
   "metadata": {},
   "source": [
    "## 1- Preprocesamiento del Texto"
   ]
  },
  {
   "cell_type": "code",
   "execution_count": null,
   "metadata": {},
   "outputs": [],
   "source": [
    "import spacy\n",
    "from sklearn.model_selection import train_test_split\n",
    "from sklearn.preprocessing import LabelEncoder\n",
    "from sklearn.feature_extraction.text import TfidfVectorizer\n",
    "\n",
    "# Cargar el modelo de SpaCy\n",
    "nlp = spacy.load(\"es_core_news_sm\")\n",
    "\n",
    "# Preprocesar el texto\n",
    "def preprocess_text(text):\n",
    "    doc = nlp(text)\n",
    "    tokens = [token.lemma_ for token in doc if not token.is_stop and not token.is_punct]\n",
    "    return ' '.join(tokens)\n",
    "\n",
    "# Aplicar preprocesamiento\n",
    "df['COMENTARIO_PROCESADO'] = df['COMENTARIO'].apply(preprocess_text)\n",
    "\n",
    "# Crear TF-IDF\n",
    "vectorizer = TfidfVectorizer(max_features=5000)\n",
    "X_text = vectorizer.fit_transform(df['COMENTARIO_PROCESADO']).toarray()\n"
   ]
  },
  {
   "cell_type": "markdown",
   "metadata": {},
   "source": [
    "## 2- Etiquetado para Sentimientos y Clasificación"
   ]
  },
  {
   "cell_type": "code",
   "execution_count": null,
   "metadata": {},
   "outputs": [],
   "source": [
    "# Análisis de sentimientos (Positivo/Negativo)\n",
    "def get_sentiment(text):\n",
    "    sentiment = nlp(text)._.polarity\n",
    "    return 'Positivo' if sentiment > 0 else 'Negativo'\n",
    "\n",
    "df['SENTIMIENTO'] = df['COMENTARIO_PROCESADO'].apply(get_sentiment)\n",
    "\n",
    "# Codificar el sentimiento\n",
    "le_sent = LabelEncoder()\n",
    "y_sent = le_sent.fit_transform(df['SENTIMIENTO'])\n",
    "\n",
    "# Seleccionar la etiqueta de clasificación (SEGMENTO, PAIS, PERIODO)\n",
    "label_choice = input(\"Ingrese el label para la clasificación ('SEGMENTO', 'PAIS', 'PERIODO'): \")\n",
    "y_class = df[label_choice]\n",
    "\n",
    "# Codificar la etiqueta de clasificación\n",
    "le_class = LabelEncoder()\n",
    "y_class_encoded = le_class.fit_transform(y_class)\n",
    "\n",
    "# Dividir los datos en conjuntos de entrenamiento y prueba\n",
    "X_train, X_test, y_train_class, y_test_class, y_train_sent, y_test_sent = train_test_split(\n",
    "    X_text, y_class_encoded, y_sent, test_size=0.2, random_state=42)\n"
   ]
  },
  {
   "cell_type": "markdown",
   "metadata": {},
   "source": [
    "## 3- Modelo Multitarea (Análisis de Sentimientos + Clasificación de texto)"
   ]
  },
  {
   "cell_type": "code",
   "execution_count": null,
   "metadata": {},
   "outputs": [],
   "source": [
    "import tensorflow as tf\n",
    "from tensorflow.keras import layers, models\n",
    "\n",
    "# Definir la entrada\n",
    "input_layer = layers.Input(shape=(X_train.shape[1],))\n",
    "\n",
    "# Capa densa compartida\n",
    "shared_layer = layers.Dense(128, activation='relu')(input_layer)\n",
    "shared_layer = layers.Dropout(0.3)(shared_layer)\n",
    "\n",
    "# Salida para la clasificación (Segmento, País, Periodo)\n",
    "output_class = layers.Dense(len(le_class.classes_), activation='softmax', name='class_output')(shared_layer)\n",
    "\n",
    "# Salida para el análisis de sentimientos\n",
    "output_sent = layers.Dense(1, activation='sigmoid', name='sentiment_output')(shared_layer)\n",
    "\n",
    "# Definir el modelo con dos salidas\n",
    "model = models.Model(inputs=input_layer, outputs=[output_class, output_sent])\n",
    "\n",
    "# Compilar el modelo con pérdidas separadas\n",
    "model.compile(optimizer='adam',\n",
    "              loss={'class_output': 'sparse_categorical_crossentropy', 'sentiment_output': 'binary_crossentropy'},\n",
    "              metrics={'class_output': 'accuracy', 'sentiment_output': 'accuracy'})\n",
    "\n",
    "# Resumen del modelo\n",
    "model.summary()\n"
   ]
  },
  {
   "cell_type": "markdown",
   "metadata": {},
   "source": [
    "## 4- Entrenamiento del Modelo"
   ]
  },
  {
   "cell_type": "code",
   "execution_count": null,
   "metadata": {},
   "outputs": [],
   "source": [
    "# Entrenar el modelo multitarea\n",
    "history = model.fit(X_train, \n",
    "                    {'class_output': y_train_class, 'sentiment_output': y_train_sent},\n",
    "                    validation_data=(X_test, {'class_output': y_test_class, 'sentiment_output': y_test_sent}),\n",
    "                    epochs=10,\n",
    "                    batch_size=32)\n",
    "\n",
    "# Guardar el modelo entrenado\n",
    "model.save('modelo_multitarea.h5')\n"
   ]
  },
  {
   "cell_type": "markdown",
   "metadata": {},
   "source": [
    "## 5- Evaluación del Modelo"
   ]
  },
  {
   "cell_type": "code",
   "execution_count": null,
   "metadata": {},
   "outputs": [],
   "source": [
    "# Evaluar el modelo multitarea\n",
    "loss, class_loss, sentiment_loss, class_acc, sentiment_acc = model.evaluate(\n",
    "    X_test, \n",
    "    {'class_output': y_test_class, 'sentiment_output': y_test_sent})\n",
    "\n",
    "print(f'Loss: {loss}')\n",
    "print(f'Class Loss: {class_loss}, Class Accuracy: {class_acc}')\n",
    "print(f'Sentiment Loss: {sentiment_loss}, Sentiment Accuracy: {sentiment_acc}')\n"
   ]
  },
  {
   "cell_type": "markdown",
   "metadata": {},
   "source": [
    "## 6- Visualización con Tensorboard"
   ]
  },
  {
   "cell_type": "code",
   "execution_count": null,
   "metadata": {},
   "outputs": [],
   "source": [
    "from tensorflow.keras.callbacks import TensorBoard\n",
    "import datetime\n",
    "\n",
    "# Definir los logs de TensorBoard\n",
    "log_dir = \"logs/fit/\" + datetime.datetime.now().strftime(\"%Y%m%d-%H%M%S\")\n",
    "tensorboard_callback = TensorBoard(log_dir=log_dir, histogram_freq=1)\n",
    "\n",
    "# Volver a entrenar el modelo con TensorBoard\n",
    "history = model.fit(X_train, \n",
    "                    {'class_output': y_train_class, 'sentiment_output': y_train_sent},\n",
    "                    validation_data=(X_test, {'class_output': y_test_class, 'sentiment_output': y_test_sent}),\n",
    "                    epochs=10,\n",
    "                    batch_size=32,\n",
    "                    callbacks=[tensorboard_callback])\n",
    "\n",
    "# Para ver los resultados, ejecutar en la terminal: tensorboard --logdir logs/fit\n"
   ]
  }
 ],
 "metadata": {
  "language_info": {
   "name": "python"
  }
 },
 "nbformat": 4,
 "nbformat_minor": 2
}
